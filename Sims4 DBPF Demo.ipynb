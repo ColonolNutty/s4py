{
 "metadata": {
  "celltoolbar": "Raw Cell Format",
  "name": "",
  "signature": "sha256:ebdb41bbfb8ded37d587919e1fe17ed85bce868c9f721cd3e8f861040a11eb08"
 },
 "nbformat": 3,
 "nbformat_minor": 0,
 "worksheets": [
  {
   "cells": [
    {
     "cell_type": "markdown",
     "metadata": {},
     "source": [
      "This notebook expects to be run with the Maxis documentation unpacked into a \"docs\" directory one level above the s4py checkout."
     ]
    },
    {
     "cell_type": "code",
     "collapsed": false,
     "input": [
      "import imp, sys"
     ],
     "language": "python",
     "metadata": {},
     "outputs": [],
     "prompt_number": 1
    },
    {
     "cell_type": "code",
     "collapsed": false,
     "input": [
      "if 'lib' not in sys.path:\n",
      "    sys.path.insert(0, 'lib')"
     ],
     "language": "python",
     "metadata": {},
     "outputs": [],
     "prompt_number": 2
    },
    {
     "cell_type": "code",
     "collapsed": false,
     "input": [
      "from s4py import resource"
     ],
     "language": "python",
     "metadata": {},
     "outputs": [],
     "prompt_number": 3
    },
    {
     "cell_type": "code",
     "collapsed": false,
     "input": [
      "if 's4py.package' in sys.modules: del sys.modules['s4py.package'] # This is used to facilitate a complete reload\n",
      "from s4py import package\n",
      "dbfile = package.open_package(\"../docs/Examples/simsmodsquad-novelist.package\")"
     ],
     "language": "python",
     "metadata": {},
     "outputs": [],
     "prompt_number": 4
    },
    {
     "cell_type": "markdown",
     "metadata": {},
     "source": [
      "If you plan on working with absolutely huge files and you only ever plan to scan the index once, or you're limited on RAM, you can disable the index cache by including the option `prescan_index=False` to the DBPFFile constructor."
     ]
    },
    {
     "cell_type": "markdown",
     "metadata": {},
     "source": [
      "`scan_index` is the main interface to listing the contents of the archive. By default, it just lists every file:"
     ]
    },
    {
     "cell_type": "code",
     "collapsed": false,
     "input": [
      "dbfile.file.header"
     ],
     "language": "python",
     "metadata": {},
     "outputs": [
      {
       "metadata": {},
       "output_type": "pyout",
       "prompt_number": 5,
       "text": [
        "_Header(file_version=(2, 1), user_version=(0, 0), ctime=0, mtime=0, index_count=15, index_pos=6209, index_size=484)"
       ]
      }
     ],
     "prompt_number": 5
    },
    {
     "cell_type": "code",
     "collapsed": false,
     "input": [
      "list(dbfile.file.get_index(None))"
     ],
     "language": "python",
     "metadata": {},
     "outputs": [
      {
       "metadata": {},
       "output_type": "pyout",
       "prompt_number": 6,
       "text": [
        "[Resource(id=ResourceID(group=1566966, instance=9711602016992004756, type=1415235194), locator=DbpfLocator(offset=983, raw_len=411, compression=(65535, 1)), size=624, package=None),\n",
        " Resource(id=ResourceID(group=0, instance=17109175714213527721, type=3412057543), locator=DbpfLocator(offset=4814, raw_len=460, compression=(65535, 1)), size=586, package=None),\n",
        " Resource(id=ResourceID(group=6282508, instance=17109175714213527721, type=1415235194), locator=DbpfLocator(offset=2192, raw_len=515, compression=(65535, 1)), size=824, package=None),\n",
        " Resource(id=ResourceID(group=2147483648, instance=9843285830282141775, type=3235601127), locator=DbpfLocator(offset=4569, raw_len=245, compression=(65535, 1)), size=300, package=None),\n",
        " Resource(id=ResourceID(group=1566966, instance=17255048677818777433, type=1415235194), locator=DbpfLocator(offset=1784, raw_len=408, compression=(65535, 1)), size=621, package=None),\n",
        " Resource(id=ResourceID(group=2147483648, instance=9843285830282141775, type=832458525), locator=DbpfLocator(offset=901, raw_len=82, compression=(65535, 1)), size=136, package=None),\n",
        " Resource(id=ResourceID(group=0, instance=59885996037423615, type=570775514), locator=DbpfLocator(offset=657, raw_len=244, compression=(65535, 1)), size=297, package=None),\n",
        " Resource(id=ResourceID(group=0, instance=14457913820777337860, type=1612179606), locator=DbpfLocator(offset=3209, raw_len=655, compression=(65535, 1)), size=1130, package=None),\n",
        " Resource(id=ResourceID(group=0, instance=13121002462428736056, type=209137191), locator=DbpfLocator(offset=96, raw_len=281, compression=(65535, 1)), size=347, package=None),\n",
        " Resource(id=ResourceID(group=0, instance=18361080903726246348, type=209137191), locator=DbpfLocator(offset=377, raw_len=280, compression=(65535, 1)), size=345, package=None),\n",
        " Resource(id=ResourceID(group=0, instance=9711602016992004756, type=1612179606), locator=DbpfLocator(offset=2707, raw_len=502, compression=(65535, 1)), size=730, package=None),\n",
        " Resource(id=ResourceID(group=0, instance=11927328461003579914, type=3900887599), locator=DbpfLocator(offset=5274, raw_len=935, compression=(65535, 1)), size=1603, package=None),\n",
        " Resource(id=ResourceID(group=0, instance=14159500691277653723, type=3055412916), locator=DbpfLocator(offset=4373, raw_len=196, compression=(65535, 1)), size=212, package=None),\n",
        " Resource(id=ResourceID(group=1566966, instance=14457913820777337860, type=1415235194), locator=DbpfLocator(offset=1394, raw_len=390, compression=(65535, 1)), size=612, package=None),\n",
        " Resource(id=ResourceID(group=0, instance=17255048677818777433, type=1612179606), locator=DbpfLocator(offset=3864, raw_len=509, compression=(65535, 1)), size=740, package=None)]"
       ]
      }
     ],
     "prompt_number": 6
    },
    {
     "cell_type": "code",
     "collapsed": false,
     "input": [],
     "language": "python",
     "metadata": {},
     "outputs": [],
     "prompt_number": 6
    },
    {
     "cell_type": "code",
     "collapsed": false,
     "input": [
      "list(dbfile.scan_index())"
     ],
     "language": "python",
     "metadata": {},
     "outputs": [
      {
       "metadata": {},
       "output_type": "pyout",
       "prompt_number": 7,
       "text": [
        "[ResourceID(group=0, instance=11927328461003579914, type=3900887599),\n",
        " ResourceID(group=0, instance=14457913820777337860, type=1612179606),\n",
        " ResourceID(group=1566966, instance=14457913820777337860, type=1415235194),\n",
        " ResourceID(group=0, instance=14159500691277653723, type=3055412916),\n",
        " ResourceID(group=1566966, instance=17255048677818777433, type=1415235194),\n",
        " ResourceID(group=0, instance=13121002462428736056, type=209137191),\n",
        " ResourceID(group=0, instance=18361080903726246348, type=209137191),\n",
        " ResourceID(group=2147483648, instance=9843285830282141775, type=3235601127),\n",
        " ResourceID(group=0, instance=9711602016992004756, type=1612179606),\n",
        " ResourceID(group=0, instance=17109175714213527721, type=3412057543),\n",
        " ResourceID(group=2147483648, instance=9843285830282141775, type=832458525),\n",
        " ResourceID(group=0, instance=59885996037423615, type=570775514),\n",
        " ResourceID(group=0, instance=17255048677818777433, type=1612179606),\n",
        " ResourceID(group=6282508, instance=17109175714213527721, type=1415235194),\n",
        " ResourceID(group=1566966, instance=9711602016992004756, type=1415235194)]"
       ]
      }
     ],
     "prompt_number": 7
    },
    {
     "cell_type": "markdown",
     "metadata": {},
     "source": [
      "We can filter on type: 0x545AC67A, for example, is a simdata resource"
     ]
    },
    {
     "cell_type": "code",
     "collapsed": false,
     "input": [
      "list(dbfile.scan_index(resource.ResourceFilter(type=0x545ac67a)))"
     ],
     "language": "python",
     "metadata": {},
     "outputs": [
      {
       "metadata": {},
       "output_type": "pyout",
       "prompt_number": 8,
       "text": [
        "[ResourceID(group=1566966, instance=14457913820777337860, type=1415235194),\n",
        " ResourceID(group=1566966, instance=17255048677818777433, type=1415235194),\n",
        " ResourceID(group=6282508, instance=17109175714213527721, type=1415235194),\n",
        " ResourceID(group=1566966, instance=9711602016992004756, type=1415235194)]"
       ]
      }
     ],
     "prompt_number": 8
    },
    {
     "cell_type": "markdown",
     "metadata": {},
     "source": [
      "Or, we can use `0x6017E896` to refer to an XML resource:"
     ]
    },
    {
     "cell_type": "code",
     "collapsed": false,
     "input": [
      "rsrcs = list(dbfile.scan_index(resource.ResourceFilter(type=0x6017E896)))\n",
      "rid = rsrcs[0]\n",
      "[str(_) for _ in rsrcs]"
     ],
     "language": "python",
     "metadata": {},
     "outputs": [
      {
       "metadata": {},
       "output_type": "pyout",
       "prompt_number": 9,
       "text": [
        "['00000000:c8a4d404c8a4d404:6017e896',\n",
        " '00000000:86c68a9486c68a94:6017e896',\n",
        " '00000000:ef763f59ef763f59:6017e896']"
       ]
      }
     ],
     "prompt_number": 9
    },
    {
     "cell_type": "markdown",
     "metadata": {},
     "source": [
      "Once you have a resource ID, you can get the full resource descriptor by indexing the package."
     ]
    },
    {
     "cell_type": "code",
     "collapsed": false,
     "input": [
      "rsrc = dbfile[rid]; rsrc"
     ],
     "language": "python",
     "metadata": {},
     "outputs": [
      {
       "metadata": {},
       "output_type": "pyout",
       "prompt_number": 10,
       "text": [
        "Resource(id=ResourceID(group=0, instance=14457913820777337860, type=1612179606), locator=DbpfLocator(offset=3209, raw_len=655, compression=(65535, 1)), size=1130, package=<s4py.package.DbpfPackage object at 0x7fbcac19ad68>)"
       ]
      }
     ],
     "prompt_number": 10
    },
    {
     "cell_type": "markdown",
     "metadata": {},
     "source": [
      "This resouce descriptor can then be used to get the content of the resource:"
     ]
    },
    {
     "cell_type": "code",
     "collapsed": false,
     "input": [
      "print(dbfile[rid].content.decode(\"utf8\"))"
     ],
     "language": "python",
     "metadata": {},
     "outputs": [
      {
       "output_type": "stream",
       "stream": "stdout",
       "text": [
        "\ufeff<?xml version=\"1.0\" encoding=\"utf-8\"?><I i=\"buff\" n=\"Buff_Trait_Novelist\" c=\"Buff\" m=\"buffs.buff\" s=\"14457913820190063374\"><T n=\"audio_sting_on_add\" p=\"sting_buff_gain.propx\">39b2aa4a:00000000:8af8b916cf64c646</T><T n=\"audio_sting_on_remove\" p=\"sting_buff_loss.propx\">39b2aa4a:00000000:3bf33216a25546ea</T><U n=\"game_effect_modifiers\"><L n=\"game_effect_modifiers\"><V t=\"autonomy_modifier\"><U n=\"autonomy_modifier\"><L n=\"stat_use_multiplier\"><U><T n=\"key\">16714</T><U n=\"value\"><E n=\"apply_direction\">INCREASE</E><T n=\"multiplier\">1.5</T></U></U></L></U></V><V t=\"effective_skill_modifier\"><U n=\"effective_skill_modifier\"><V t=\"skill_type\" n=\"modifier_key\"><T n=\"skill_type\">16714</T></V><T n=\"modifier_value\">2</T></U></V></L></U><T n=\"icon\" p=\"missing_image.png\">2f7d0004:00000000:30f0846c783606f9</T><T n=\"icon_highlight\" p=\"missing_image.png\">2f7d0004:00000000:30f0846c783606f9</T><V t=\"enabled\" n=\"interactions\"><U n=\"enabled\"><L n=\"interaction_items\"><T>13500</T></L></U></V><T n=\"refresh_on_add\">True</T><T n=\"success_modifier\">0</T><T n=\"ui_sort_order\">1</T><T n=\"visible\">False</T><V t=\"disabled\" n=\"walkstyle\" /></I>\r\n",
        "\n"
       ]
      }
     ],
     "prompt_number": 11
    }
   ],
   "metadata": {}
  }
 ]
}