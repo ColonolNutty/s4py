{
 "metadata": {
  "celltoolbar": "Raw Cell Format",
  "name": "",
  "signature": "sha256:59c7c3caa8e727cc2d07003b87eeede5abef815773beb398e72a492d51a1b6a9"
 },
 "nbformat": 3,
 "nbformat_minor": 0,
 "worksheets": [
  {
   "cells": [
    {
     "cell_type": "markdown",
     "metadata": {},
     "source": [
      "This notebook expects to be run with the Maxis documentation unpacked into a \"docs\" directory one level above the s4py checkout."
     ]
    },
    {
     "cell_type": "code",
     "collapsed": false,
     "input": [
      "import imp, sys"
     ],
     "language": "python",
     "metadata": {},
     "outputs": [],
     "prompt_number": 1
    },
    {
     "cell_type": "code",
     "collapsed": false,
     "input": [
      "if 'lib' not in sys.path:\n",
      "    sys.path.insert(0, 'lib')"
     ],
     "language": "python",
     "metadata": {},
     "outputs": [],
     "prompt_number": 2
    },
    {
     "cell_type": "code",
     "collapsed": false,
     "input": [
      "if 's4py.dbpf' in sys.modules: del sys.modules['s4py.dbpf'] # This is used to facilitate a complete reload\n",
      "from s4py import dbpf\n",
      "dbfile = dbpf.DBPFFile(\"../docs/Examples/simsmodsquad-novelist.package\")"
     ],
     "language": "python",
     "metadata": {},
     "outputs": [],
     "prompt_number": 3
    },
    {
     "cell_type": "markdown",
     "metadata": {},
     "source": [
      "If you plan on working with absolutely huge files and you only ever plan to scan the index once, or you're limited on RAM, you can disable the index cache by including the option `prescan_index=False` to the DBPFFile constructor."
     ]
    },
    {
     "cell_type": "markdown",
     "metadata": {},
     "source": [
      "`scan_index` is the main interface to listing the contents of the archive. By default, it just lists every file:"
     ]
    },
    {
     "cell_type": "code",
     "collapsed": false,
     "input": [
      "list(dbfile.scan_index())"
     ],
     "language": "python",
     "metadata": {},
     "outputs": [
      {
       "metadata": {},
       "output_type": "pyout",
       "prompt_number": 4,
       "text": [
        "[0017e8f6!86c68a94e577adc8.545ac67a,\n",
        " 00000000!ed7000a97ea8f032.cb5fddc7,\n",
        " 005fdd0c!ed7000a97ea8f032.545ac67a,\n",
        " 80000000!889a604f0a722f69.c0db5ae7,\n",
        " 0017e8f6!ef763f593d7b1d07.545ac67a,\n",
        " 80000000!889a604f0a722f69.319e4f1d,\n",
        " 00000000!00d4c1ffd5a99fdb.220557da,\n",
        " 00000000!c8a4d404a5a3bb0e.6017e896,\n",
        " 00000000!b6172a3815ab8ef1.0c772e27,\n",
        " 00000000!fecfa9ccb71b7a4c.0c772e27,\n",
        " 00000000!86c68a94e577adc8.6017e896,\n",
        " 00000000!a586620a4681b704.e882d22f,\n",
        " 00000000!c480a6db0381546e.b61de6b4,\n",
        " 0017e8f6!c8a4d404a5a3bb0e.545ac67a,\n",
        " 00000000!ef763f593d7b1d07.6017e896]"
       ]
      }
     ],
     "prompt_number": 4
    },
    {
     "cell_type": "markdown",
     "metadata": {},
     "source": [
      "We can filter on type: 0x545AC67A, for example, is a simdata resource"
     ]
    },
    {
     "cell_type": "code",
     "collapsed": false,
     "input": [
      "list(dbfile.scan_index(dbpf.ResourceFilter(type=0x545ac67a)))"
     ],
     "language": "python",
     "metadata": {},
     "outputs": [
      {
       "metadata": {},
       "output_type": "pyout",
       "prompt_number": 5,
       "text": [
        "[0017e8f6!86c68a94e577adc8.545ac67a,\n",
        " 005fdd0c!ed7000a97ea8f032.545ac67a,\n",
        " 0017e8f6!ef763f593d7b1d07.545ac67a,\n",
        " 0017e8f6!c8a4d404a5a3bb0e.545ac67a]"
       ]
      }
     ],
     "prompt_number": 5
    },
    {
     "cell_type": "markdown",
     "metadata": {},
     "source": [
      "Or, we can use `0x6017E896` to refer to an XML resource:"
     ]
    },
    {
     "cell_type": "code",
     "collapsed": false,
     "input": [
      "list(dbfile.scan_index(dbpf.ResourceFilter(type=0x6017E896)))"
     ],
     "language": "python",
     "metadata": {},
     "outputs": [
      {
       "metadata": {},
       "output_type": "pyout",
       "prompt_number": 6,
       "text": [
        "[00000000!c8a4d404a5a3bb0e.6017e896,\n",
        " 00000000!86c68a94e577adc8.6017e896,\n",
        " 00000000!ef763f593d7b1d07.6017e896]"
       ]
      }
     ],
     "prompt_number": 6
    },
    {
     "cell_type": "markdown",
     "metadata": {},
     "source": [
      "We can also use a raw ResourceID as a filter. This is not likely to be directly useful, but you can also ask for the full index entry rather than just the resource ID with the `full_entries` option to `scan_index`:"
     ]
    },
    {
     "cell_type": "code",
     "collapsed": false,
     "input": [
      "rid = dbpf.ResourceID(0x00000000, 0xC8A4D404A5A3BB0E,0x6017E896)\n",
      "list(dbfile.scan_index(rid, full_entries = True))"
     ],
     "language": "python",
     "metadata": {},
     "outputs": [
      {
       "metadata": {},
       "output_type": "pyout",
       "prompt_number": 7,
       "text": [
        "[IndexEntry(id=00000000!c8a4d404a5a3bb0e.6017e896, offset=3209, size=655, size_decompressed=1130, compression=(65535, 1))]"
       ]
      }
     ],
     "prompt_number": 7
    },
    {
     "cell_type": "markdown",
     "metadata": {},
     "source": [
      "However, it's probably more useful to use the rid as an index:"
     ]
    },
    {
     "cell_type": "code",
     "collapsed": false,
     "input": [
      "print(dbfile[rid].decode(\"utf8\"))"
     ],
     "language": "python",
     "metadata": {},
     "outputs": [
      {
       "output_type": "stream",
       "stream": "stdout",
       "text": [
        "\ufeff<?xml version=\"1.0\" encoding=\"utf-8\"?><I i=\"buff\" n=\"Buff_Trait_Novelist\" c=\"Buff\" m=\"buffs.buff\" s=\"14457913820190063374\"><T n=\"audio_sting_on_add\" p=\"sting_buff_gain.propx\">39b2aa4a:00000000:8af8b916cf64c646</T><T n=\"audio_sting_on_remove\" p=\"sting_buff_loss.propx\">39b2aa4a:00000000:3bf33216a25546ea</T><U n=\"game_effect_modifiers\"><L n=\"game_effect_modifiers\"><V t=\"autonomy_modifier\"><U n=\"autonomy_modifier\"><L n=\"stat_use_multiplier\"><U><T n=\"key\">16714</T><U n=\"value\"><E n=\"apply_direction\">INCREASE</E><T n=\"multiplier\">1.5</T></U></U></L></U></V><V t=\"effective_skill_modifier\"><U n=\"effective_skill_modifier\"><V t=\"skill_type\" n=\"modifier_key\"><T n=\"skill_type\">16714</T></V><T n=\"modifier_value\">2</T></U></V></L></U><T n=\"icon\" p=\"missing_image.png\">2f7d0004:00000000:30f0846c783606f9</T><T n=\"icon_highlight\" p=\"missing_image.png\">2f7d0004:00000000:30f0846c783606f9</T><V t=\"enabled\" n=\"interactions\"><U n=\"enabled\"><L n=\"interaction_items\"><T>13500</T></L></U></V><T n=\"refresh_on_add\">True</T><T n=\"success_modifier\">0</T><T n=\"ui_sort_order\">1</T><T n=\"visible\">False</T><V t=\"disabled\" n=\"walkstyle\" /></I>\r\n",
        "\n"
       ]
      }
     ],
     "prompt_number": 8
    },
    {
     "cell_type": "markdown",
     "metadata": {},
     "source": [
      "As a bonus feature, if you're certain that there is only one file that matches a given filter, you can just use that as a RID."
     ]
    }
   ],
   "metadata": {}
  }
 ]
}